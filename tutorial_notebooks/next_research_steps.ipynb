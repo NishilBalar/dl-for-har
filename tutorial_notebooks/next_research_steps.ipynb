{
 "cells": [
  {
   "attachments": {},
   "cell_type": "markdown",
   "metadata": {
    "id": "tCl0_WQzkm89",
    "pycharm": {
     "name": "#%% md\n"
    }
   },
   "source": [
    "# 6. Some things to try as next research steps"
   ]
  },
  {
   "attachments": {},
   "cell_type": "markdown",
   "metadata": {
    "id": "rAMW_jXBYC5N",
    "pycharm": {
     "name": "#%% md\n"
    }
   },
   "source": [
    "## 6.1. Important Remarks"
   ]
  },
  {
   "attachments": {},
   "cell_type": "markdown",
   "metadata": {
    "id": "M_jHD4jxksEJ",
    "pycharm": {
     "name": "#%% md\n"
    }
   },
   "source": [
    "If you are accessing this tutorial via [Google Colab](https://colab.research.google.com/github/mariusbock/dl-for-har/blob/main/tutorial_notebooks/training.ipynb), first make sure to use Google Colab in English. This will help us to better assist you with issues that might arise during the tutorial. There are two ways to change the default language if it isn't English already:\n",
    "1. On Google Colab, go to `Help` -> `View in English` \n",
    "2. Change the default language of your browser to `English`.\n",
    "\n",
    "To also ease the communication when communicating errors, enable line numbers within the settings of Colab.\n",
    "\n",
    "1. On Google Colab, go to `Tools` -> `Settings` -> `Editor` -> `Show line numbers`\n",
    "\n",
    "In general, we strongly advise you to use Google Colab as it provides you with a working Python distribution as well as free GPU resources. To make Colab use GPUs, you need to change the current notebooks runtime type via:\n",
    "\n",
    "- `Runtime` -> `Change runtime type` -> `Dropdown` -> `GPU` -> `Save`\n",
    "\n",
    "**Hint:** you can auto-complete code in Colab via `ctrl` + `spacebar`\n",
    "\n",
    "For the live tutorial, we require all participants to use Colab. If you decide to rerun the tutorial at later points and rather want to have it run locally on your machine, feel free to clone our [GitHub repository](https://github.com/mariusbock/dl-for-har).\n",
    "\n",
    "To get started with this notebook, you need to first run the code cell below. Please set `use_colab` to be `True` if you are accessing this notebook via Colab. If not, please set it to `False`. This code cell will make sure that imports from our GitHub repository will work."
   ]
  },
  {
   "cell_type": "code",
   "execution_count": 1,
   "metadata": {
    "colab": {
     "base_uri": "https://localhost:8080/"
    },
    "id": "aU7hQXifkr0n",
    "outputId": "8280385c-4866-4a5b-ccaa-8ae270bdd4db",
    "pycharm": {
     "name": "#%%\n"
    }
   },
   "outputs": [
    {
     "name": "stdout",
     "output_type": "stream",
     "text": [
      "c:\\nishil\\Nishil_study\\4th sem\\RAML\\my project HAR\\dl-for-har\n"
     ]
    }
   ],
   "source": [
    "import os, sys\n",
    "\n",
    "use_colab = False\n",
    "\n",
    "module_path = os.path.abspath(os.path.join('..'))\n",
    "\n",
    "if use_colab:\n",
    "    # move to content directory and remove directory for a clean start \n",
    "    %cd /content/         \n",
    "    %rm -rf dl-for-har\n",
    "    # clone package repository (will throw error if already cloned)\n",
    "    !git clone https://github.com/mariusbock/dl-for-har.git\n",
    "    # navigate to dl-for-har directory\n",
    "    %cd dl-for-har/       \n",
    "else:\n",
    "    os.chdir(module_path)\n",
    "    \n",
    "# this statement is needed so that we can use the methods of the DL-ARC pipeline\n",
    "if module_path not in sys.path:\n",
    "    sys.path.append(module_path)\n",
    "    \n",
    "print(module_path)"
   ]
  },
  {
   "attachments": {},
   "cell_type": "markdown",
   "metadata": {
    "id": "Kz2hB3O3YJX6",
    "pycharm": {
     "name": "#%% md\n"
    }
   },
   "source": [
    "## 6.2. Loading and preparing the data"
   ]
  },
  {
   "attachments": {},
   "cell_type": "markdown",
   "metadata": {
    "pycharm": {
     "name": "#%% md\n"
    }
   },
   "source": [
    "Nothing to be adapted here"
   ]
  },
  {
   "cell_type": "code",
   "execution_count": 2,
   "metadata": {
    "colab": {
     "base_uri": "https://localhost:8080/"
    },
    "id": "YRMk_5R_kcrJ",
    "outputId": "6ada39db-44d6-4461-8116-4cee67c37ee5",
    "pycharm": {
     "name": "#%%\n"
    }
   },
   "outputs": [
    {
     "name": "stdout",
     "output_type": "stream",
     "text": [
      "Processing dataset files ...\n",
      "Full dataset with size: | X (659260, 4) | y (659260,) | \n",
      " ..from file data/rwhar_3sbjs_data.csv\n"
     ]
    }
   ],
   "source": [
    "import numpy as np\n",
    "import warnings\n",
    "\n",
    "from data_processing.sliding_window import apply_sliding_window\n",
    "from data_processing.preprocess_data import load_dataset\n",
    "\n",
    "warnings.filterwarnings('ignore')\n",
    "\n",
    "\n",
    "# data loading (we are using a predefined method called load_dataset, which is part of the DL-ARC feature stack)\n",
    "X, y, num_classes, class_names, sampling_rate, has_null = load_dataset('rwhar_3sbjs', include_null=True)\n",
    "# since the method returns features and labels separatley, we need to concat them\n",
    "data = np.concatenate((X, y[:, None]), axis=1)\n",
    "\n",
    "# define the train data to be all data belonging to the first two subjects\n",
    "train_data = data[data[:, 0] <= 1]\n",
    "# define the validation data to be all data belonging to the third subject\n",
    "valid_data = data[data[:, 0] == 2]\n",
    "\n",
    "# settings for the sliding window (change them if you want to!)\n",
    "sw_length = 50\n",
    "sw_unit = 'units'\n",
    "sw_overlap = 50\n",
    "\n",
    "# apply a sliding window on top of both the train and validation data; you can use our predefined method\n",
    "X_train, y_train = apply_sliding_window(train_data[:, :-1], train_data[:, -1], sliding_window_size=sw_length, unit=sw_unit, sampling_rate=50, sliding_window_overlap=sw_overlap)\n",
    "X_valid, y_valid = apply_sliding_window(valid_data[:, :-1], valid_data[:, -1], sliding_window_size=sw_length, unit=sw_unit, sampling_rate=50, sliding_window_overlap=sw_overlap)\n",
    "\n",
    "# (optional) omit the first feature column (subject_identifier) from the train and validation dataset\n",
    "X_train, X_valid = X_train[:, :, 1:], X_valid[:, :, 1:]\n",
    "\n",
    "# convert the features of the train and validation to float32 and labels to uint8 for GPU compatibility \n",
    "X_train, y_train = X_train.astype(np.float32), y_train.astype(np.uint8)\n",
    "X_valid, y_valid = X_valid.astype(np.float32), y_valid.astype(np.uint8)"
   ]
  },
  {
   "attachments": {},
   "cell_type": "markdown",
   "metadata": {
    "id": "GLOXAncvYiRV",
    "pycharm": {
     "name": "#%% md\n"
    }
   },
   "source": [
    "## 6.3. Training with and without Label Smoothing"
   ]
  },
  {
   "attachments": {},
   "cell_type": "markdown",
   "metadata": {
    "id": "whlsFyrVYpiL",
    "pycharm": {
     "name": "#%% md\n"
    }
   },
   "source": [
    "### 6.3.1. Define the Config Object"
   ]
  },
  {
   "attachments": {},
   "cell_type": "markdown",
   "metadata": {
    "pycharm": {
     "name": "#%% md\n"
    }
   },
   "source": [
    "Nothing to be done here."
   ]
  },
  {
   "cell_type": "code",
   "execution_count": 3,
   "metadata": {
    "id": "svIhikLBn_13",
    "pycharm": {
     "name": "#%%\n"
    }
   },
   "outputs": [],
   "source": [
    "config = {\n",
    "    #### TRY AND CHANGE THESE PARAMETERS ####\n",
    "    # sliding window settings\n",
    "    'sw_length': 50,\n",
    "    'sw_unit': 'units',\n",
    "    'sampling_rate': 50,\n",
    "    'sw_overlap': 30,\n",
    "    # network settings\n",
    "    'nb_conv_blocks': 2,\n",
    "    'conv_block_type': 'normal',\n",
    "    'nb_filters': 64,\n",
    "    'filter_width': 11,\n",
    "    'no_lstm': False,\n",
    "    'nb_units_lstm': 128,\n",
    "    'nb_layers_lstm': 1,\n",
    "    'drop_prob': 0.5,\n",
    "    # training settings\n",
    "    'epochs': 30,\n",
    "    'batch_size': 100,\n",
    "    'loss': 'cross_entropy',\n",
    "    'weighted': True,\n",
    "    'weights_init': 'xavier_uniform',\n",
    "    'shuffling': True,\n",
    "    'optimizer': 'adam',\n",
    "    'lr': 1e-4,\n",
    "    'weight_decay': 1e-6,\n",
    "    ### UP FROM HERE YOU SHOULD RATHER NOT CHANGE THESE ####\n",
    "    'batch_norm': False,\n",
    "    'dilation': 1,\n",
    "    'pooling': False,\n",
    "    'pool_type': 'max',\n",
    "    'pool_kernel_width': 2,\n",
    "    'reduce_layer': False,\n",
    "    'reduce_layer_output': 10,\n",
    "    'nb_classes': 8,\n",
    "    'seed': 1,\n",
    "    'gpu': 'cuda:0',\n",
    "    'verbose': False,\n",
    "    'print_freq': 10,\n",
    "    'valid_epoch': 'last',\n",
    "    'save_gradient_plot': False,\n",
    "    'print_counts': False,\n",
    "    'adj_lr': False,\n",
    "    'adj_lr_patience': 5,\n",
    "    'early_stopping': False,\n",
    "    'es_patience': 5,\n",
    "    'save_test_preds': False\n",
    "}\n",
    "\n",
    "\n",
    "config['window_size'] = X_train.shape[1]\n",
    "config['nb_channels'] = X_train.shape[2]\n",
    "config['nb_classes'] = len(class_names)"
   ]
  },
  {
   "attachments": {},
   "cell_type": "markdown",
   "metadata": {
    "id": "R_8AsJ_MY8xR",
    "pycharm": {
     "name": "#%% md\n"
    }
   },
   "source": [
    "### 6.3.3. Without Label Smoothing"
   ]
  },
  {
   "attachments": {},
   "cell_type": "markdown",
   "metadata": {
    "pycharm": {
     "name": "#%% md\n"
    }
   },
   "source": [
    "Nothing to be done here - this has be covered / discussed before."
   ]
  },
  {
   "cell_type": "code",
   "execution_count": 4,
   "metadata": {
    "colab": {
     "base_uri": "https://localhost:8080/"
    },
    "id": "IF_SUtmFrVHd",
    "outputId": "a0467bc4-b62e-4bba-d17a-528bb3b6ab7f",
    "pycharm": {
     "name": "#%%\n"
    }
   },
   "outputs": [
    {
     "name": "stdout",
     "output_type": "stream",
     "text": [
      "+----------------------------+------------+\n",
      "|          Modules           | Parameters |\n",
      "+----------------------------+------------+\n",
      "| conv_blocks.0.conv1.weight |    704     |\n",
      "|  conv_blocks.0.conv1.bias  |     64     |\n",
      "| conv_blocks.0.conv2.weight |   45056    |\n",
      "|  conv_blocks.0.conv2.bias  |     64     |\n",
      "| conv_blocks.1.conv1.weight |   45056    |\n",
      "|  conv_blocks.1.conv1.bias  |     64     |\n",
      "| conv_blocks.1.conv2.weight |   45056    |\n",
      "|  conv_blocks.1.conv2.bias  |     64     |\n",
      "| lstm_layers.0.weight_ih_l0 |   98304    |\n",
      "| lstm_layers.0.weight_hh_l0 |   65536    |\n",
      "|  lstm_layers.0.bias_ih_l0  |    512     |\n",
      "|  lstm_layers.0.bias_hh_l0  |    512     |\n",
      "|         fc.weight          |    1024    |\n",
      "|          fc.bias           |     8      |\n",
      "+----------------------------+------------+\n",
      "Total Params: 302024\n",
      "Applied weighted class weights: \n",
      "tensor([1.0706, 0.9283, 5.8955, 0.8614, 0.8780, 0.8439, 0.8556, 0.8580])\n",
      "EPOCH: 1/30 \n",
      "Train Loss: 1.3588 Train Acc (M): 0.3317 Train Prc (M): 0.4599 Train Rcl (M): 0.4876 Train F1 (M): 0.4654 Train Acc (W): 0.3627 Train Prc (W): 0.5025 Train Rcl (W): 0.5053 Train F1 (W): 0.5009 \n",
      "Valid Loss: 2.3219 Valid Acc (M): 0.0735 Valid Prc (M): 0.1083 Valid Rcl (M): 0.2426 Valid F1 (M): 0.1107 Valid Acc (W): 0.0732 Valid Prc (W): 0.1118 Valid Rcl (W): 0.1614 Valid F1 (W): 0.1076\n",
      "Performance improved... (0.0->0.11073207577384628)\n",
      "EPOCH: 2/30 \n",
      "Train Loss: 0.7031 Train Acc (M): 0.6082 Train Prc (M): 0.7135 Train Rcl (M): 0.7466 Train F1 (M): 0.7233 Train Acc (W): 0.6408 Train Prc (W): 0.7510 Train Rcl (W): 0.7474 Train F1 (W): 0.7472 \n",
      "Valid Loss: 2.4904 Valid Acc (M): 0.0460 Valid Prc (M): 0.0710 Valid Rcl (M): 0.1758 Valid F1 (M): 0.0803 Valid Acc (W): 0.0485 Valid Prc (W): 0.0771 Valid Rcl (W): 0.1111 Valid F1 (W): 0.0842\n",
      "EPOCH: 3/30 \n",
      "Train Loss: 0.5909 Train Acc (M): 0.6862 Train Prc (M): 0.7795 Train Rcl (M): 0.7959 Train F1 (M): 0.7863 Train Acc (W): 0.6894 Train Prc (W): 0.7863 Train Rcl (W): 0.7891 Train F1 (W): 0.7869 \n",
      "Valid Loss: 2.4728 Valid Acc (M): 0.1010 Valid Prc (M): 0.1540 Valid Rcl (M): 0.2405 Valid F1 (M): 0.1534 Valid Acc (W): 0.1099 Valid Prc (W): 0.1695 Valid Rcl (W): 0.1887 Valid F1 (W): 0.1660\n",
      "Performance improved... (0.11073207577384628->0.15338666049832625)\n",
      "EPOCH: 4/30 \n",
      "Train Loss: 0.5393 Train Acc (M): 0.7138 Train Prc (M): 0.8050 Train Rcl (M): 0.8152 Train F1 (M): 0.8090 Train Acc (W): 0.7125 Train Prc (W): 0.8068 Train Rcl (W): 0.8093 Train F1 (W): 0.8071 \n",
      "Valid Loss: 2.5497 Valid Acc (M): 0.0940 Valid Prc (M): 0.1427 Valid Rcl (M): 0.2214 Valid F1 (M): 0.1461 Valid Acc (W): 0.1024 Valid Prc (W): 0.1572 Valid Rcl (W): 0.1786 Valid F1 (W): 0.1585\n",
      "EPOCH: 5/30 \n",
      "Train Loss: 0.5147 Train Acc (M): 0.7289 Train Prc (M): 0.8200 Train Rcl (M): 0.8256 Train F1 (M): 0.8217 Train Acc (W): 0.7238 Train Prc (W): 0.8177 Train Rcl (W): 0.8199 Train F1 (W): 0.8178 \n",
      "Valid Loss: 2.6159 Valid Acc (M): 0.0890 Valid Prc (M): 0.1929 Valid Rcl (M): 0.2439 Valid F1 (M): 0.1297 Valid Acc (W): 0.0964 Valid Prc (W): 0.2138 Valid Rcl (W): 0.1791 Valid F1 (W): 0.1395\n",
      "EPOCH: 6/30 \n",
      "Train Loss: 0.4865 Train Acc (M): 0.7476 Train Prc (M): 0.8364 Train Rcl (M): 0.8386 Train F1 (M): 0.8365 Train Acc (W): 0.7394 Train Prc (W): 0.8310 Train Rcl (W): 0.8329 Train F1 (W): 0.8309 \n",
      "Valid Loss: 2.9141 Valid Acc (M): 0.0955 Valid Prc (M): 0.1841 Valid Rcl (M): 0.2266 Valid F1 (M): 0.1420 Valid Acc (W): 0.1024 Valid Prc (W): 0.2006 Valid Rcl (W): 0.1506 Valid F1 (W): 0.1510\n",
      "EPOCH: 7/30 \n",
      "Train Loss: 0.4645 Train Acc (M): 0.7603 Train Prc (M): 0.8485 Train Rcl (M): 0.8477 Train F1 (M): 0.8471 Train Acc (W): 0.7512 Train Prc (W): 0.8416 Train Rcl (W): 0.8428 Train F1 (W): 0.8411 \n",
      "Valid Loss: 2.7499 Valid Acc (M): 0.1264 Valid Prc (M): 0.2234 Valid Rcl (M): 0.2792 Valid F1 (M): 0.1786 Valid Acc (W): 0.1386 Valid Prc (W): 0.2499 Valid Rcl (W): 0.2162 Valid F1 (W): 0.1951\n",
      "Performance improved... (0.15338666049832625->0.17863896525415657)\n",
      "EPOCH: 8/30 \n",
      "Train Loss: 0.4456 Train Acc (M): 0.7660 Train Prc (M): 0.8538 Train Rcl (M): 0.8521 Train F1 (M): 0.8518 Train Acc (W): 0.7565 Train Prc (W): 0.8464 Train Rcl (W): 0.8475 Train F1 (W): 0.8457 \n",
      "Valid Loss: 2.8011 Valid Acc (M): 0.1432 Valid Prc (M): 0.2187 Valid Rcl (M): 0.2927 Valid F1 (M): 0.1944 Valid Acc (W): 0.1563 Valid Prc (W): 0.2416 Valid Rcl (W): 0.2324 Valid F1 (W): 0.2111\n",
      "Performance improved... (0.17863896525415657->0.19437636003154296)\n",
      "EPOCH: 9/30 \n",
      "Train Loss: 0.4276 Train Acc (M): 0.7778 Train Prc (M): 0.8636 Train Rcl (M): 0.8621 Train F1 (M): 0.8617 Train Acc (W): 0.7694 Train Prc (W): 0.8572 Train Rcl (W): 0.8580 Train F1 (W): 0.8564 \n",
      "Valid Loss: 2.7672 Valid Acc (M): 0.0908 Valid Prc (M): 0.2238 Valid Rcl (M): 0.2609 Valid F1 (M): 0.1331 Valid Acc (W): 0.0984 Valid Prc (W): 0.2548 Valid Rcl (W): 0.1823 Valid F1 (W): 0.1433\n",
      "EPOCH: 10/30 \n",
      "Train Loss: 0.4104 Train Acc (M): 0.7870 Train Prc (M): 0.8716 Train Rcl (M): 0.8682 Train F1 (M): 0.8688 Train Acc (W): 0.7773 Train Prc (W): 0.8639 Train Rcl (W): 0.8642 Train F1 (W): 0.8629 \n",
      "Valid Loss: 3.0537 Valid Acc (M): 0.0885 Valid Prc (M): 0.2469 Valid Rcl (M): 0.2563 Valid F1 (M): 0.1288 Valid Acc (W): 0.0955 Valid Prc (W): 0.2853 Valid Rcl (W): 0.1782 Valid F1 (W): 0.1379\n",
      "EPOCH: 11/30 \n",
      "Train Loss: 0.3989 Train Acc (M): 0.7924 Train Prc (M): 0.8759 Train Rcl (M): 0.8718 Train F1 (M): 0.8729 Train Acc (W): 0.7826 Train Prc (W): 0.8678 Train Rcl (W): 0.8681 Train F1 (W): 0.8669 \n",
      "Valid Loss: 3.0602 Valid Acc (M): 0.0844 Valid Prc (M): 0.2062 Valid Rcl (M): 0.2539 Valid F1 (M): 0.1209 Valid Acc (W): 0.0900 Valid Prc (W): 0.2312 Valid Rcl (W): 0.1729 Valid F1 (W): 0.1273\n",
      "EPOCH: 12/30 \n",
      "Train Loss: 0.3832 Train Acc (M): 0.8009 Train Prc (M): 0.8829 Train Rcl (M): 0.8781 Train F1 (M): 0.8798 Train Acc (W): 0.7910 Train Prc (W): 0.8746 Train Rcl (W): 0.8746 Train F1 (W): 0.8738 \n",
      "Valid Loss: 3.1028 Valid Acc (M): 0.0842 Valid Prc (M): 0.2031 Valid Rcl (M): 0.2506 Valid F1 (M): 0.1207 Valid Acc (W): 0.0898 Valid Prc (W): 0.2275 Valid Rcl (W): 0.1720 Valid F1 (W): 0.1272\n",
      "EPOCH: 13/30 \n",
      "Train Loss: 0.3742 Train Acc (M): 0.8045 Train Prc (M): 0.8854 Train Rcl (M): 0.8807 Train F1 (M): 0.8822 Train Acc (W): 0.7950 Train Prc (W): 0.8775 Train Rcl (W): 0.8773 Train F1 (W): 0.8765 \n",
      "Valid Loss: 3.3796 Valid Acc (M): 0.0215 Valid Prc (M): 0.1147 Valid Rcl (M): 0.1373 Valid F1 (M): 0.0396 Valid Acc (W): 0.0206 Valid Prc (W): 0.1238 Valid Rcl (W): 0.0445 Valid F1 (W): 0.0377\n",
      "EPOCH: 14/30 \n",
      "Train Loss: 0.3697 Train Acc (M): 0.8076 Train Prc (M): 0.8885 Train Rcl (M): 0.8825 Train F1 (M): 0.8845 Train Acc (W): 0.7971 Train Prc (W): 0.8796 Train Rcl (W): 0.8789 Train F1 (W): 0.8783 \n",
      "Valid Loss: 3.5771 Valid Acc (M): 0.0246 Valid Prc (M): 0.1260 Valid Rcl (M): 0.1442 Valid F1 (M): 0.0461 Valid Acc (W): 0.0248 Valid Prc (W): 0.1378 Valid Rcl (W): 0.0534 Valid F1 (W): 0.0463\n",
      "EPOCH: 15/30 \n",
      "Train Loss: 0.3639 Train Acc (M): 0.8071 Train Prc (M): 0.8877 Train Rcl (M): 0.8827 Train F1 (M): 0.8844 Train Acc (W): 0.7978 Train Prc (W): 0.8798 Train Rcl (W): 0.8796 Train F1 (W): 0.8789 \n",
      "Valid Loss: 3.2807 Valid Acc (M): 0.1022 Valid Prc (M): 0.2824 Valid Rcl (M): 0.2736 Valid F1 (M): 0.1520 Valid Acc (W): 0.1136 Valid Prc (W): 0.3325 Valid Rcl (W): 0.1971 Valid F1 (W): 0.1684\n",
      "EPOCH: 16/30 \n",
      "Train Loss: 0.3548 Train Acc (M): 0.8147 Train Prc (M): 0.8931 Train Rcl (M): 0.8882 Train F1 (M): 0.8899 Train Acc (W): 0.8054 Train Prc (W): 0.8853 Train Rcl (W): 0.8851 Train F1 (W): 0.8844 \n",
      "Valid Loss: 3.5466 Valid Acc (M): 0.0922 Valid Prc (M): 0.2787 Valid Rcl (M): 0.2660 Valid F1 (M): 0.1365 Valid Acc (W): 0.1011 Valid Prc (W): 0.3280 Valid Rcl (W): 0.1856 Valid F1 (W): 0.1491\n",
      "EPOCH: 17/30 \n",
      "Train Loss: 0.3473 Train Acc (M): 0.8241 Train Prc (M): 0.9003 Train Rcl (M): 0.8946 Train F1 (M): 0.8967 Train Acc (W): 0.8148 Train Prc (W): 0.8923 Train Rcl (W): 0.8918 Train F1 (W): 0.8912 \n",
      "Valid Loss: 3.3468 Valid Acc (M): 0.0980 Valid Prc (M): 0.2808 Valid Rcl (M): 0.2719 Valid F1 (M): 0.1457 Valid Acc (W): 0.1087 Valid Prc (W): 0.3310 Valid Rcl (W): 0.1934 Valid F1 (W): 0.1610\n",
      "EPOCH: 18/30 \n",
      "Train Loss: 0.3455 Train Acc (M): 0.8200 Train Prc (M): 0.8976 Train Rcl (M): 0.8919 Train F1 (M): 0.8938 Train Acc (W): 0.8108 Train Prc (W): 0.8897 Train Rcl (W): 0.8889 Train F1 (W): 0.8884 \n",
      "Valid Loss: 3.1222 Valid Acc (M): 0.0914 Valid Prc (M): 0.2664 Valid Rcl (M): 0.2637 Valid F1 (M): 0.1341 Valid Acc (W): 0.0991 Valid Prc (W): 0.3118 Valid Rcl (W): 0.1825 Valid F1 (W): 0.1446\n",
      "EPOCH: 19/30 \n",
      "Train Loss: 0.3337 Train Acc (M): 0.8266 Train Prc (M): 0.9023 Train Rcl (M): 0.8968 Train F1 (M): 0.8987 Train Acc (W): 0.8181 Train Prc (W): 0.8950 Train Rcl (W): 0.8941 Train F1 (W): 0.8936 \n",
      "Valid Loss: 3.4991 Valid Acc (M): 0.0895 Valid Prc (M): 0.2765 Valid Rcl (M): 0.2625 Valid F1 (M): 0.1314 Valid Acc (W): 0.0970 Valid Prc (W): 0.3243 Valid Rcl (W): 0.1804 Valid F1 (W): 0.1413\n",
      "EPOCH: 20/30 \n",
      "Train Loss: 0.3279 Train Acc (M): 0.8305 Train Prc (M): 0.9052 Train Rcl (M): 0.8984 Train F1 (M): 0.9010 Train Acc (W): 0.8209 Train Prc (W): 0.8967 Train Rcl (W): 0.8958 Train F1 (W): 0.8953 \n",
      "Valid Loss: 3.3044 Valid Acc (M): 0.0577 Valid Prc (M): 0.1774 Valid Rcl (M): 0.2027 Valid F1 (M): 0.1012 Valid Acc (W): 0.0635 Valid Prc (W): 0.1994 Valid Rcl (W): 0.1181 Valid F1 (W): 0.1109\n",
      "EPOCH: 21/30 \n",
      "Train Loss: 0.3238 Train Acc (M): 0.8292 Train Prc (M): 0.9036 Train Rcl (M): 0.8986 Train F1 (M): 0.9004 Train Acc (W): 0.8203 Train Prc (W): 0.8962 Train Rcl (W): 0.8956 Train F1 (W): 0.8952 \n",
      "Valid Loss: 3.5764 Valid Acc (M): 0.0930 Valid Prc (M): 0.2709 Valid Rcl (M): 0.2642 Valid F1 (M): 0.1394 Valid Acc (W): 0.1020 Valid Prc (W): 0.3135 Valid Rcl (W): 0.1837 Valid F1 (W): 0.1521\n",
      "EPOCH: 22/30 \n",
      "Train Loss: 0.3213 Train Acc (M): 0.8323 Train Prc (M): 0.9065 Train Rcl (M): 0.9000 Train F1 (M): 0.9025 Train Acc (W): 0.8224 Train Prc (W): 0.8980 Train Rcl (W): 0.8971 Train F1 (W): 0.8968 \n",
      "Valid Loss: 3.4223 Valid Acc (M): 0.1079 Valid Prc (M): 0.2844 Valid Rcl (M): 0.2815 Valid F1 (M): 0.1601 Valid Acc (W): 0.1211 Valid Prc (W): 0.3353 Valid Rcl (W): 0.2054 Valid F1 (W): 0.1790\n",
      "EPOCH: 23/30 \n",
      "Train Loss: 0.3103 Train Acc (M): 0.8373 Train Prc (M): 0.9105 Train Rcl (M): 0.9031 Train F1 (M): 0.9059 Train Acc (W): 0.8275 Train Prc (W): 0.9016 Train Rcl (W): 0.9006 Train F1 (W): 0.9002 \n",
      "Valid Loss: 3.3099 Valid Acc (M): 0.1003 Valid Prc (M): 0.2767 Valid Rcl (M): 0.2741 Valid F1 (M): 0.1491 Valid Acc (W): 0.1114 Valid Prc (W): 0.3257 Valid Rcl (W): 0.1960 Valid F1 (W): 0.1650\n",
      "EPOCH: 24/30 \n",
      "Train Loss: 0.3072 Train Acc (M): 0.8398 Train Prc (M): 0.9116 Train Rcl (M): 0.9053 Train F1 (M): 0.9077 Train Acc (W): 0.8309 Train Prc (W): 0.9039 Train Rcl (W): 0.9028 Train F1 (W): 0.9025 \n",
      "Valid Loss: 3.6256 Valid Acc (M): 0.0942 Valid Prc (M): 0.2799 Valid Rcl (M): 0.2674 Valid F1 (M): 0.1397 Valid Acc (W): 0.1037 Valid Prc (W): 0.3305 Valid Rcl (W): 0.1882 Valid F1 (W): 0.1533\n",
      "EPOCH: 25/30 \n",
      "Train Loss: 0.3027 Train Acc (M): 0.8403 Train Prc (M): 0.9115 Train Rcl (M): 0.9066 Train F1 (M): 0.9083 Train Acc (W): 0.8322 Train Prc (W): 0.9049 Train Rcl (W): 0.9038 Train F1 (W): 0.9036 \n",
      "Valid Loss: 3.6949 Valid Acc (M): 0.0421 Valid Prc (M): 0.1516 Valid Rcl (M): 0.1790 Valid F1 (M): 0.0761 Valid Acc (W): 0.0471 Valid Prc (W): 0.1710 Valid Rcl (W): 0.0941 Valid F1 (W): 0.0842\n",
      "EPOCH: 26/30 \n",
      "Train Loss: 0.3024 Train Acc (M): 0.8410 Train Prc (M): 0.9122 Train Rcl (M): 0.9067 Train F1 (M): 0.9087 Train Acc (W): 0.8326 Train Prc (W): 0.9050 Train Rcl (W): 0.9040 Train F1 (W): 0.9037 \n",
      "Valid Loss: 3.5466 Valid Acc (M): 0.0455 Valid Prc (M): 0.1559 Valid Rcl (M): 0.1849 Valid F1 (M): 0.0822 Valid Acc (W): 0.0507 Valid Prc (W): 0.1757 Valid Rcl (W): 0.1000 Valid F1 (W): 0.0907\n",
      "EPOCH: 27/30 \n",
      "Train Loss: 0.2910 Train Acc (M): 0.8458 Train Prc (M): 0.9150 Train Rcl (M): 0.9096 Train F1 (M): 0.9116 Train Acc (W): 0.8362 Train Prc (W): 0.9073 Train Rcl (W): 0.9064 Train F1 (W): 0.9061 \n",
      "Valid Loss: 3.6387 Valid Acc (M): 0.0414 Valid Prc (M): 0.1490 Valid Rcl (M): 0.1782 Valid F1 (M): 0.0739 Valid Acc (W): 0.0469 Valid Prc (W): 0.1686 Valid Rcl (W): 0.0943 Valid F1 (W): 0.0826\n",
      "EPOCH: 28/30 \n",
      "Train Loss: 0.2970 Train Acc (M): 0.8446 Train Prc (M): 0.9149 Train Rcl (M): 0.9087 Train F1 (M): 0.9111 Train Acc (W): 0.8361 Train Prc (W): 0.9074 Train Rcl (W): 0.9063 Train F1 (W): 0.9061 \n",
      "Valid Loss: 3.2359 Valid Acc (M): 0.0510 Valid Prc (M): 0.1628 Valid Rcl (M): 0.1937 Valid F1 (M): 0.0897 Valid Acc (W): 0.0546 Valid Prc (W): 0.1808 Valid Rcl (W): 0.1057 Valid F1 (W): 0.0957\n",
      "EPOCH: 29/30 \n",
      "Train Loss: 0.2908 Train Acc (M): 0.8456 Train Prc (M): 0.9150 Train Rcl (M): 0.9093 Train F1 (M): 0.9116 Train Acc (W): 0.8369 Train Prc (W): 0.9075 Train Rcl (W): 0.9068 Train F1 (W): 0.9066 \n",
      "Valid Loss: 3.5417 Valid Acc (M): 0.0475 Valid Prc (M): 0.1620 Valid Rcl (M): 0.1878 Valid F1 (M): 0.0847 Valid Acc (W): 0.0508 Valid Prc (W): 0.1797 Valid Rcl (W): 0.0992 Valid F1 (W): 0.0902\n",
      "EPOCH: 30/30 \n",
      "Train Loss: 0.2830 Train Acc (M): 0.8463 Train Prc (M): 0.9154 Train Rcl (M): 0.9107 Train F1 (M): 0.9124 Train Acc (W): 0.8386 Train Prc (W): 0.9091 Train Rcl (W): 0.9080 Train F1 (W): 0.9079 \n",
      "Valid Loss: 3.4377 Valid Acc (M): 0.0893 Valid Prc (M): 0.2118 Valid Rcl (M): 0.2503 Valid F1 (M): 0.1439 Valid Acc (W): 0.1032 Valid Prc (W): 0.2440 Valid Rcl (W): 0.1775 Valid F1 (W): 0.1644\n"
     ]
    }
   ],
   "source": [
    "from misc.torchutils import seed_torch\n",
    "from model.DeepConvLSTM import DeepConvLSTM\n",
    "import model.train as training\n",
    "from datetime import datetime\n",
    "import torch\n",
    "seed_torch(config['seed'])\n",
    "\n",
    "# initialize your DeepConvLSTM object \n",
    "crossEntropyNet = DeepConvLSTM(config)\n",
    "#network.fc.bias = torch.nn.Parameter(torch.zeros_like(network.fc.bias), requires_grad=False)\n",
    "\n",
    "# initialize the optimizer and loss\n",
    "optimizer = torch.optim.Adam(crossEntropyNet.parameters(), lr=config['lr'], weight_decay=config['weight_decay'])\n",
    "criterion = torch.nn.CrossEntropyLoss() # should be the same as LabelSmoothingLoss(0.)\n",
    "\n",
    "\n",
    "\n",
    "# time and date for logging\n",
    "now = datetime.now()\n",
    "todayAsString = now.strftime(\"%d/%m/%Y\")\n",
    "timeAsString = now.strftime(\"%H:%M:%S\")\n",
    "\n",
    "crossEntropyNet, crossEntropyNetCheck, trainPredictions, validationPredictions = \\\n",
    "   training.train(X_train, y_train, X_valid, y_valid, crossEntropyNet, optimizer, \\\n",
    "                  criterion, config, todayAsString, timeAsString)"
   ]
  },
  {
   "attachments": {},
   "cell_type": "markdown",
   "metadata": {
    "pycharm": {
     "name": "#%% md\n"
    }
   },
   "source": [
    "### 6.3.4 The Label Smoothing Loss Function"
   ]
  },
  {
   "cell_type": "code",
   "execution_count": 5,
   "metadata": {
    "pycharm": {
     "name": "#%%\n"
    }
   },
   "outputs": [],
   "source": [
    "from torch import nn\n",
    "\n",
    "class LabelSmoothingLoss(nn.Module):\n",
    "    \n",
    "    def __init__(self, smoothing=0.0):\n",
    "        super(LabelSmoothingLoss, self).__init__()\n",
    "        self.smoothing = smoothing\n",
    "\n",
    "    def forward(self, prediction, target):\n",
    "        assert 0 <= self.smoothing < 1\n",
    "        neglog_softmaxPrediction = -prediction.log_softmax(dim=1)\n",
    "\n",
    "        with torch.no_grad():\n",
    "            smoothedLabels = self.smoothing / (prediction.size(1) - 1)* torch.ones_like(prediction)\n",
    "            smoothedLabels.scatter_(1, target.data.unsqueeze(1), 1-self.smoothing)\n",
    "        return torch.mean(torch.sum(smoothedLabels * neglog_softmaxPrediction, dim=1)) "
   ]
  },
  {
   "attachments": {},
   "cell_type": "markdown",
   "metadata": {
    "pycharm": {
     "name": "#%% md\n"
    }
   },
   "source": []
  },
  {
   "attachments": {},
   "cell_type": "markdown",
   "metadata": {
    "pycharm": {
     "name": "#%% md\n"
    }
   },
   "source": [
    "Now implement / try out HAR with different amounts of label smoothing. "
   ]
  },
  {
   "cell_type": "code",
   "execution_count": 7,
   "metadata": {
    "pycharm": {
     "name": "#%%\n"
    }
   },
   "outputs": [
    {
     "name": "stdout",
     "output_type": "stream",
     "text": [
      "+----------------------------+------------+\n",
      "|          Modules           | Parameters |\n",
      "+----------------------------+------------+\n",
      "| conv_blocks.0.conv1.weight |    704     |\n",
      "|  conv_blocks.0.conv1.bias  |     64     |\n",
      "| conv_blocks.0.conv2.weight |   45056    |\n",
      "|  conv_blocks.0.conv2.bias  |     64     |\n",
      "| conv_blocks.1.conv1.weight |   45056    |\n",
      "|  conv_blocks.1.conv1.bias  |     64     |\n",
      "| conv_blocks.1.conv2.weight |   45056    |\n",
      "|  conv_blocks.1.conv2.bias  |     64     |\n",
      "| lstm_layers.0.weight_ih_l0 |   98304    |\n",
      "| lstm_layers.0.weight_hh_l0 |   65536    |\n",
      "|  lstm_layers.0.bias_ih_l0  |    512     |\n",
      "|  lstm_layers.0.bias_hh_l0  |    512     |\n",
      "|         fc.weight          |    1024    |\n",
      "|          fc.bias           |     8      |\n",
      "+----------------------------+------------+\n",
      "Total Params: 302024\n",
      "Applied weighted class weights: \n",
      "tensor([1.0706, 0.9283, 5.8955, 0.8614, 0.8780, 0.8439, 0.8556, 0.8580])\n",
      "EPOCH: 1/30 \n",
      "Train Loss: 1.8386 Train Acc (M): 0.3483 Train Prc (M): 0.5018 Train Rcl (M): 0.4864 Train F1 (M): 0.4708 Train Acc (W): 0.3958 Train Prc (W): 0.5285 Train Rcl (W): 0.5537 Train F1 (W): 0.5307 \n",
      "Valid Loss: 2.0797 Valid Acc (M): 0.0838 Valid Prc (M): 0.2251 Valid Rcl (M): 0.2267 Valid F1 (M): 0.1292 Valid Acc (W): 0.0960 Valid Prc (W): 0.1393 Valid Rcl (W): 0.2751 Valid F1 (W): 0.1474\n",
      "Performance improved... (0.0->0.12915963261470165)\n",
      "EPOCH: 2/30 \n",
      "Train Loss: 1.6790 Train Acc (M): 0.6093 Train Prc (M): 0.7609 Train Rcl (M): 0.7102 Train F1 (M): 0.7208 Train Acc (W): 0.6575 Train Prc (W): 0.7618 Train Rcl (W): 0.7674 Train F1 (W): 0.7604 \n",
      "Valid Loss: 2.0798 Valid Acc (M): 0.0932 Valid Prc (M): 0.2696 Valid Rcl (M): 0.2161 Valid F1 (M): 0.1592 Valid Acc (W): 0.1020 Valid Prc (W): 0.2136 Valid Rcl (W): 0.2583 Valid F1 (W): 0.1724\n",
      "Performance improved... (0.12915963261470165->0.15919571902330795)\n",
      "EPOCH: 3/30 \n",
      "Train Loss: 1.6517 Train Acc (M): 0.6966 Train Prc (M): 0.8130 Train Rcl (M): 0.7900 Train F1 (M): 0.7983 Train Acc (W): 0.7059 Train Prc (W): 0.8042 Train Rcl (W): 0.8062 Train F1 (W): 0.8031 \n",
      "Valid Loss: 2.0650 Valid Acc (M): 0.1359 Valid Prc (M): 0.2775 Valid Rcl (M): 0.2609 Valid F1 (M): 0.2194 Valid Acc (W): 0.1274 Valid Prc (W): 0.2068 Valid Rcl (W): 0.2829 Valid F1 (W): 0.2055\n",
      "Performance improved... (0.15919571902330795->0.21937101667768003)\n",
      "EPOCH: 4/30 \n",
      "Train Loss: 1.6329 Train Acc (M): 0.7395 Train Prc (M): 0.8431 Train Rcl (M): 0.8268 Train F1 (M): 0.8322 Train Acc (W): 0.7377 Train Prc (W): 0.8328 Train Rcl (W): 0.8327 Train F1 (W): 0.8302 \n",
      "Valid Loss: 2.0609 Valid Acc (M): 0.1739 Valid Prc (M): 0.2986 Valid Rcl (M): 0.3121 Valid F1 (M): 0.2663 Valid Acc (W): 0.1494 Valid Prc (W): 0.2208 Valid Rcl (W): 0.3199 Valid F1 (W): 0.2344\n",
      "Performance improved... (0.21937101667768003->0.26630235537997365)\n",
      "EPOCH: 5/30 \n",
      "Train Loss: 1.6204 Train Acc (M): 0.7595 Train Prc (M): 0.8561 Train Rcl (M): 0.8451 Train F1 (M): 0.8482 Train Acc (W): 0.7542 Train Prc (W): 0.8470 Train Rcl (W): 0.8466 Train F1 (W): 0.8444 \n",
      "Valid Loss: 2.0433 Valid Acc (M): 0.1838 Valid Prc (M): 0.2793 Valid Rcl (M): 0.3348 Valid F1 (M): 0.2720 Valid Acc (W): 0.1499 Valid Prc (W): 0.1981 Valid Rcl (W): 0.3320 Valid F1 (W): 0.2312\n",
      "Performance improved... (0.26630235537997365->0.27200685515434014)\n",
      "EPOCH: 6/30 \n",
      "Train Loss: 1.6090 Train Acc (M): 0.7866 Train Prc (M): 0.8761 Train Rcl (M): 0.8660 Train F1 (M): 0.8686 Train Acc (W): 0.7772 Train Prc (W): 0.8660 Train Rcl (W): 0.8646 Train F1 (W): 0.8628 \n",
      "Valid Loss: 2.0499 Valid Acc (M): 0.1881 Valid Prc (M): 0.2574 Valid Rcl (M): 0.3238 Valid F1 (M): 0.2637 Valid Acc (W): 0.1313 Valid Prc (W): 0.1738 Valid Rcl (W): 0.2981 Valid F1 (W): 0.2042\n",
      "EPOCH: 7/30 \n",
      "Train Loss: 1.5994 Train Acc (M): 0.7946 Train Prc (M): 0.8836 Train Rcl (M): 0.8731 Train F1 (M): 0.8760 Train Acc (W): 0.7872 Train Prc (W): 0.8748 Train Rcl (W): 0.8727 Train F1 (W): 0.8714 \n",
      "Valid Loss: 2.0469 Valid Acc (M): 0.2078 Valid Prc (M): 0.2701 Valid Rcl (M): 0.3406 Valid F1 (M): 0.2799 Valid Acc (W): 0.1349 Valid Prc (W): 0.1879 Valid Rcl (W): 0.3003 Valid F1 (W): 0.2110\n",
      "Performance improved... (0.27200685515434014->0.2798739119179265)\n",
      "EPOCH: 8/30 \n",
      "Train Loss: 1.5935 Train Acc (M): 0.8056 Train Prc (M): 0.8908 Train Rcl (M): 0.8816 Train F1 (M): 0.8843 Train Acc (W): 0.7977 Train Prc (W): 0.8824 Train Rcl (W): 0.8803 Train F1 (W): 0.8793 \n",
      "Valid Loss: 2.0680 Valid Acc (M): 0.1893 Valid Prc (M): 0.2358 Valid Rcl (M): 0.3108 Valid F1 (M): 0.2454 Valid Acc (W): 0.1098 Valid Prc (W): 0.1510 Valid Rcl (W): 0.2641 Valid F1 (W): 0.1710\n",
      "EPOCH: 9/30 \n",
      "Train Loss: 1.5849 Train Acc (M): 0.8173 Train Prc (M): 0.8991 Train Rcl (M): 0.8898 Train F1 (M): 0.8926 Train Acc (W): 0.8091 Train Prc (W): 0.8906 Train Rcl (W): 0.8884 Train F1 (W): 0.8876 \n",
      "Valid Loss: 2.0709 Valid Acc (M): 0.1823 Valid Prc (M): 0.2129 Valid Rcl (M): 0.2960 Valid F1 (M): 0.2281 Valid Acc (W): 0.0980 Valid Prc (W): 0.1265 Valid Rcl (W): 0.2436 Valid F1 (W): 0.1503\n",
      "EPOCH: 10/30 \n",
      "Train Loss: 1.5796 Train Acc (M): 0.8278 Train Prc (M): 0.9064 Train Rcl (M): 0.8964 Train F1 (M): 0.8996 Train Acc (W): 0.8177 Train Prc (W): 0.8967 Train Rcl (W): 0.8942 Train F1 (W): 0.8937 \n",
      "Valid Loss: 2.0922 Valid Acc (M): 0.1639 Valid Prc (M): 0.2067 Valid Rcl (M): 0.2712 Valid F1 (M): 0.1999 Valid Acc (W): 0.0770 Valid Prc (W): 0.1181 Valid Rcl (W): 0.2172 Valid F1 (W): 0.1177\n",
      "EPOCH: 11/30 \n",
      "Train Loss: 1.5765 Train Acc (M): 0.8322 Train Prc (M): 0.9096 Train Rcl (M): 0.8996 Train F1 (M): 0.9029 Train Acc (W): 0.8231 Train Prc (W): 0.9007 Train Rcl (W): 0.8979 Train F1 (W): 0.8976 \n",
      "Valid Loss: 2.0927 Valid Acc (M): 0.1848 Valid Prc (M): 0.2182 Valid Rcl (M): 0.3063 Valid F1 (M): 0.2323 Valid Acc (W): 0.1000 Valid Prc (W): 0.1318 Valid Rcl (W): 0.2554 Valid F1 (W): 0.1540\n",
      "EPOCH: 12/30 \n",
      "Train Loss: 1.5724 Train Acc (M): 0.8367 Train Prc (M): 0.9130 Train Rcl (M): 0.9028 Train F1 (M): 0.9062 Train Acc (W): 0.8278 Train Prc (W): 0.9041 Train Rcl (W): 0.9012 Train F1 (W): 0.9010 \n",
      "Valid Loss: 2.0831 Valid Acc (M): 0.1770 Valid Prc (M): 0.2060 Valid Rcl (M): 0.2920 Valid F1 (M): 0.2195 Valid Acc (W): 0.0918 Valid Prc (W): 0.1184 Valid Rcl (W): 0.2395 Valid F1 (W): 0.1402\n",
      "EPOCH: 13/30 \n",
      "Train Loss: 1.5690 Train Acc (M): 0.8387 Train Prc (M): 0.9142 Train Rcl (M): 0.9040 Train F1 (M): 0.9076 Train Acc (W): 0.8299 Train Prc (W): 0.9052 Train Rcl (W): 0.9026 Train F1 (W): 0.9024 \n",
      "Valid Loss: 2.0818 Valid Acc (M): 0.1644 Valid Prc (M): 0.1966 Valid Rcl (M): 0.2715 Valid F1 (M): 0.1995 Valid Acc (W): 0.0773 Valid Prc (W): 0.1070 Valid Rcl (W): 0.2169 Valid F1 (W): 0.1175\n",
      "EPOCH: 14/30 \n",
      "Train Loss: 1.5672 Train Acc (M): 0.8420 Train Prc (M): 0.9159 Train Rcl (M): 0.9061 Train F1 (M): 0.9095 Train Acc (W): 0.8325 Train Prc (W): 0.9068 Train Rcl (W): 0.9042 Train F1 (W): 0.9040 \n",
      "Valid Loss: 2.0818 Valid Acc (M): 0.1583 Valid Prc (M): 0.2737 Valid Rcl (M): 0.2594 Valid F1 (M): 0.1904 Valid Acc (W): 0.0710 Valid Prc (W): 0.1908 Valid Rcl (W): 0.2048 Valid F1 (W): 0.1070\n",
      "EPOCH: 15/30 \n",
      "Train Loss: 1.5644 Train Acc (M): 0.8453 Train Prc (M): 0.9179 Train Rcl (M): 0.9084 Train F1 (M): 0.9118 Train Acc (W): 0.8357 Train Prc (W): 0.9089 Train Rcl (W): 0.9064 Train F1 (W): 0.9062 \n",
      "Valid Loss: 2.0747 Valid Acc (M): 0.1833 Valid Prc (M): 0.2382 Valid Rcl (M): 0.3041 Valid F1 (M): 0.2309 Valid Acc (W): 0.0989 Valid Prc (W): 0.1524 Valid Rcl (W): 0.2535 Valid F1 (W): 0.1527\n",
      "EPOCH: 16/30 \n",
      "Train Loss: 1.5633 Train Acc (M): 0.8475 Train Prc (M): 0.9196 Train Rcl (M): 0.9096 Train F1 (M): 0.9132 Train Acc (W): 0.8384 Train Prc (W): 0.9105 Train Rcl (W): 0.9081 Train F1 (W): 0.9080 \n",
      "Valid Loss: 2.0862 Valid Acc (M): 0.1694 Valid Prc (M): 0.2334 Valid Rcl (M): 0.2741 Valid F1 (M): 0.2055 Valid Acc (W): 0.0817 Valid Prc (W): 0.1467 Valid Rcl (W): 0.2193 Valid F1 (W): 0.1230\n",
      "EPOCH: 17/30 \n",
      "Train Loss: 1.5599 Train Acc (M): 0.8543 Train Prc (M): 0.9239 Train Rcl (M): 0.9142 Train F1 (M): 0.9178 Train Acc (W): 0.8456 Train Prc (W): 0.9151 Train Rcl (W): 0.9129 Train F1 (W): 0.9128 \n",
      "Valid Loss: 2.0670 Valid Acc (M): 0.1652 Valid Prc (M): 0.2299 Valid Rcl (M): 0.2748 Valid F1 (M): 0.2013 Valid Acc (W): 0.0780 Valid Prc (W): 0.1422 Valid Rcl (W): 0.2201 Valid F1 (W): 0.1192\n",
      "EPOCH: 18/30 \n",
      "Train Loss: 1.5589 Train Acc (M): 0.8525 Train Prc (M): 0.9223 Train Rcl (M): 0.9133 Train F1 (M): 0.9166 Train Acc (W): 0.8439 Train Prc (W): 0.9138 Train Rcl (W): 0.9118 Train F1 (W): 0.9116 \n",
      "Valid Loss: 2.0537 Valid Acc (M): 0.1692 Valid Prc (M): 0.2120 Valid Rcl (M): 0.2821 Valid F1 (M): 0.2066 Valid Acc (W): 0.0829 Valid Prc (W): 0.1235 Valid Rcl (W): 0.2287 Valid F1 (W): 0.1257\n",
      "EPOCH: 19/30 \n",
      "Train Loss: 1.5573 Train Acc (M): 0.8554 Train Prc (M): 0.9247 Train Rcl (M): 0.9147 Train F1 (M): 0.9185 Train Acc (W): 0.8472 Train Prc (W): 0.9161 Train Rcl (W): 0.9139 Train F1 (W): 0.9138 \n",
      "Valid Loss: 2.0505 Valid Acc (M): 0.1764 Valid Prc (M): 0.2641 Valid Rcl (M): 0.2874 Valid F1 (M): 0.2199 Valid Acc (W): 0.0900 Valid Prc (W): 0.1800 Valid Rcl (W): 0.2346 Valid F1 (W): 0.1394\n",
      "EPOCH: 20/30 \n",
      "Train Loss: 1.5557 Train Acc (M): 0.8577 Train Prc (M): 0.9257 Train Rcl (M): 0.9164 Train F1 (M): 0.9199 Train Acc (W): 0.8491 Train Prc (W): 0.9172 Train Rcl (W): 0.9151 Train F1 (W): 0.9150 \n",
      "Valid Loss: 2.0631 Valid Acc (M): 0.1754 Valid Prc (M): 0.2166 Valid Rcl (M): 0.2925 Valid F1 (M): 0.2170 Valid Acc (W): 0.0897 Valid Prc (W): 0.1290 Valid Rcl (W): 0.2402 Valid F1 (W): 0.1373\n",
      "EPOCH: 21/30 \n",
      "Train Loss: 1.5548 Train Acc (M): 0.8591 Train Prc (M): 0.9259 Train Rcl (M): 0.9175 Train F1 (M): 0.9209 Train Acc (W): 0.8505 Train Prc (W): 0.9176 Train Rcl (W): 0.9159 Train F1 (W): 0.9159 \n",
      "Valid Loss: 2.0697 Valid Acc (M): 0.1760 Valid Prc (M): 0.2169 Valid Rcl (M): 0.2930 Valid F1 (M): 0.2175 Valid Acc (W): 0.0899 Valid Prc (W): 0.1294 Valid Rcl (W): 0.2402 Valid F1 (W): 0.1375\n",
      "EPOCH: 22/30 \n",
      "Train Loss: 1.5526 Train Acc (M): 0.8583 Train Prc (M): 0.9258 Train Rcl (M): 0.9169 Train F1 (M): 0.9204 Train Acc (W): 0.8496 Train Prc (W): 0.9173 Train Rcl (W): 0.9154 Train F1 (W): 0.9153 \n",
      "Valid Loss: 2.0697 Valid Acc (M): 0.1918 Valid Prc (M): 0.2395 Valid Rcl (M): 0.3207 Valid F1 (M): 0.2405 Valid Acc (W): 0.1079 Valid Prc (W): 0.1543 Valid Rcl (W): 0.2713 Valid F1 (W): 0.1631\n",
      "EPOCH: 23/30 \n",
      "Train Loss: 1.5522 Train Acc (M): 0.8614 Train Prc (M): 0.9273 Train Rcl (M): 0.9190 Train F1 (M): 0.9223 Train Acc (W): 0.8526 Train Prc (W): 0.9191 Train Rcl (W): 0.9172 Train F1 (W): 0.9172 \n",
      "Valid Loss: 2.0739 Valid Acc (M): 0.1637 Valid Prc (M): 0.2098 Valid Rcl (M): 0.2720 Valid F1 (M): 0.1974 Valid Acc (W): 0.0768 Valid Prc (W): 0.1206 Valid Rcl (W): 0.2176 Valid F1 (W): 0.1156\n",
      "EPOCH: 24/30 \n",
      "Train Loss: 1.5507 Train Acc (M): 0.8634 Train Prc (M): 0.9287 Train Rcl (M): 0.9203 Train F1 (M): 0.9236 Train Acc (W): 0.8552 Train Prc (W): 0.9207 Train Rcl (W): 0.9190 Train F1 (W): 0.9190 \n",
      "Valid Loss: 2.0782 Valid Acc (M): 0.1760 Valid Prc (M): 0.2473 Valid Rcl (M): 0.2925 Valid F1 (M): 0.2177 Valid Acc (W): 0.0898 Valid Prc (W): 0.1607 Valid Rcl (W): 0.2396 Valid F1 (W): 0.1377\n",
      "EPOCH: 25/30 \n",
      "Train Loss: 1.5498 Train Acc (M): 0.8637 Train Prc (M): 0.9293 Train Rcl (M): 0.9204 Train F1 (M): 0.9238 Train Acc (W): 0.8555 Train Prc (W): 0.9211 Train Rcl (W): 0.9191 Train F1 (W): 0.9191 \n",
      "Valid Loss: 2.0842 Valid Acc (M): 0.1660 Valid Prc (M): 0.2190 Valid Rcl (M): 0.2754 Valid F1 (M): 0.2011 Valid Acc (W): 0.0788 Valid Prc (W): 0.1304 Valid Rcl (W): 0.2207 Valid F1 (W): 0.1193\n",
      "EPOCH: 26/30 \n",
      "Train Loss: 1.5482 Train Acc (M): 0.8667 Train Prc (M): 0.9308 Train Rcl (M): 0.9224 Train F1 (M): 0.9257 Train Acc (W): 0.8586 Train Prc (W): 0.9229 Train Rcl (W): 0.9212 Train F1 (W): 0.9212 \n",
      "Valid Loss: 2.0528 Valid Acc (M): 0.2050 Valid Prc (M): 0.2945 Valid Rcl (M): 0.3371 Valid F1 (M): 0.2605 Valid Acc (W): 0.1223 Valid Prc (W): 0.2125 Valid Rcl (W): 0.2894 Valid F1 (W): 0.1852\n",
      "EPOCH: 27/30 \n",
      "Train Loss: 1.5477 Train Acc (M): 0.8690 Train Prc (M): 0.9320 Train Rcl (M): 0.9241 Train F1 (M): 0.9273 Train Acc (W): 0.8614 Train Prc (W): 0.9246 Train Rcl (W): 0.9229 Train F1 (W): 0.9229 \n",
      "Valid Loss: 2.0593 Valid Acc (M): 0.1945 Valid Prc (M): 0.2651 Valid Rcl (M): 0.3252 Valid F1 (M): 0.2443 Valid Acc (W): 0.1108 Valid Prc (W): 0.1815 Valid Rcl (W): 0.2757 Valid F1 (W): 0.1673\n",
      "EPOCH: 28/30 \n",
      "Train Loss: 1.5457 Train Acc (M): 0.8704 Train Prc (M): 0.9331 Train Rcl (M): 0.9247 Train F1 (M): 0.9281 Train Acc (W): 0.8626 Train Prc (W): 0.9254 Train Rcl (W): 0.9237 Train F1 (W): 0.9237 \n",
      "Valid Loss: 2.0510 Valid Acc (M): 0.1730 Valid Prc (M): 0.2339 Valid Rcl (M): 0.2878 Valid F1 (M): 0.2126 Valid Acc (W): 0.0865 Valid Prc (W): 0.1465 Valid Rcl (W): 0.2344 Valid F1 (W): 0.1320\n",
      "EPOCH: 29/30 \n",
      "Train Loss: 1.5452 Train Acc (M): 0.8688 Train Prc (M): 0.9320 Train Rcl (M): 0.9238 Train F1 (M): 0.9271 Train Acc (W): 0.8608 Train Prc (W): 0.9242 Train Rcl (W): 0.9225 Train F1 (W): 0.9226 \n",
      "Valid Loss: 2.0581 Valid Acc (M): 0.1899 Valid Prc (M): 0.2384 Valid Rcl (M): 0.3166 Valid F1 (M): 0.2376 Valid Acc (W): 0.1052 Valid Prc (W): 0.1530 Valid Rcl (W): 0.2663 Valid F1 (W): 0.1597\n",
      "EPOCH: 30/30 \n",
      "Train Loss: 1.5440 Train Acc (M): 0.8711 Train Prc (M): 0.9332 Train Rcl (M): 0.9253 Train F1 (M): 0.9285 Train Acc (W): 0.8632 Train Prc (W): 0.9256 Train Rcl (W): 0.9240 Train F1 (W): 0.9241 \n",
      "Valid Loss: 2.0549 Valid Acc (M): 0.2239 Valid Prc (M): 0.3299 Valid Rcl (M): 0.3720 Valid F1 (M): 0.2780 Valid Acc (W): 0.1432 Valid Prc (W): 0.2521 Valid Rcl (W): 0.3279 Valid F1 (W): 0.2045\n"
     ]
    }
   ],
   "source": [
    "seed_torch(config['seed'])\n",
    "\n",
    "ls_Net = DeepConvLSTM(config)\n",
    "\n",
    "# initialize the optimizer and loss\n",
    "optimizer = torch.optim.Adam(ls_Net.parameters(), lr=config['lr'], weight_decay=config['weight_decay'])\n",
    "criterion = LabelSmoothingLoss(0.4)\n",
    "\n",
    "now = datetime.now()\n",
    "todayAsString = now.strftime(\"%d/%m/%Y\")\n",
    "timeAsString = now.strftime(\"%H:%M:%S\")\n",
    "\n",
    "labelSmoothingNet, labelSmoothingNetCheck, trainPredictions, validationPredictions = \\\n",
    "   training.train(X_train, y_train, X_valid, y_valid, ls_Net, optimizer, \\\n",
    "                  criterion, config, todayAsString, timeAsString)"
   ]
  },
  {
   "attachments": {},
   "cell_type": "markdown",
   "metadata": {
    "collapsed": false,
    "pycharm": {
     "name": "#%% md\n"
    }
   },
   "source": [
    "## 6.4 Visualization of the networks predictions on three classes"
   ]
  },
  {
   "cell_type": "code",
   "execution_count": 8,
   "metadata": {
    "collapsed": false,
    "pycharm": {
     "name": "#%%\n"
    }
   },
   "outputs": [],
   "source": [
    "## helper for extracting activations\n",
    "activation = {}\n",
    "def get_activation(name):\n",
    "    def hook(model, input, output):\n",
    "        activation[name] = output.detach()\n",
    "    return hook"
   ]
  },
  {
   "cell_type": "code",
   "execution_count": 9,
   "metadata": {
    "collapsed": false,
    "pycharm": {
     "name": "#%%\n"
    }
   },
   "outputs": [],
   "source": [
    "import matplotlib.pyplot as plt\n",
    "\n",
    "## Visualization of the activations -- warning: This function expects the penultimate layer's name to be 'fc'\n",
    "def visualizeActivations(classes, net, inputData, inputDataLabels, penultimateLayerName, lastLayerName):\n",
    "    ## Extract the 'templates' to which the distances are computed\n",
    "    features = torch.zeros_like(getattr(net,lastLayerName).weight[0:3,:])\n",
    "    for i in range(3):\n",
    "        features[i,:] = -getattr(net,lastLayerName).weight[classes[i],:]\n",
    "\n",
    "    ## Determine two orthogonal vectors that span the plane containing the three features\n",
    "    V1 = features[0,:] - features[2,:]\n",
    "    V1 = V1 / torch.norm(V1)\n",
    "    V2 = features[1,:] - features[2,:]\n",
    "    V2 = V2 - (V2.T@V1)*V1\n",
    "    V2 = V2 / torch.norm(V2)\n",
    "\n",
    "    net.eval()\n",
    "    with torch.no_grad():\n",
    "        ## Now compute the penultimate activations\n",
    "        handle = getattr(net,penultimateLayerName).register_forward_hook(get_activation('penultimateActivations'))\n",
    "        for i in range(3):\n",
    "            output = net(inputData[inputDataLabels==classes[i],:,:])\n",
    "            coord1 = activation['penultimateActivations']@V1[:,None]\n",
    "            coord2 = activation['penultimateActivations']@V2[:,None]\n",
    "            plt.plot(coord1.detach().cpu().numpy(), coord2.detach().cpu().numpy(), 'x')\n",
    "\n",
    "        handle.remove()"
   ]
  },
  {
   "cell_type": "code",
   "execution_count": 10,
   "metadata": {
    "collapsed": false,
    "pycharm": {
     "name": "#%%\n"
    }
   },
   "outputs": [
    {
     "data": {
      "image/png": "[encoded data removed]",
      "text/plain": [
       "<Figure size 640x480 with 1 Axes>"
      ]
     },
     "metadata": {},
     "output_type": "display_data"
    },
    {
     "data": {
      "image/png": "[encoded data removed]",
      "text/plain": [
       "<Figure size 640x480 with 1 Axes>"
      ]
     },
     "metadata": {},
     "output_type": "display_data"
    }
   ],
   "source": [
    "penultimateLayerName = 'dropout'\n",
    "lastLayerName = 'fc'\n",
    "classes = [0,1,2]\n",
    "\n",
    "\n",
    "plt.title('with label smoothing')\n",
    "visualizeActivations(classes, labelSmoothingNet, torch.from_numpy(X_train).to(config['gpu']),torch.from_numpy(y_train).to(config['gpu']), \\\n",
    "                    penultimateLayerName,lastLayerName)\n",
    "plt.show()\n",
    "\n",
    "\n",
    "plt.title('without label smoothing')\n",
    "visualizeActivations(classes, crossEntropyNet, torch.from_numpy(X_train).to(config['gpu']),torch.from_numpy(y_train).to(config['gpu']), \\\n",
    "                    penultimateLayerName,lastLayerName)\n",
    "plt.show()"
   ]
  },
  {
   "attachments": {},
   "cell_type": "markdown",
   "metadata": {
    "pycharm": {
     "name": "#%% md\n"
    }
   },
   "source": [
    "## 6.5 MaxUp Implementation"
   ]
  },
  {
   "attachments": {},
   "cell_type": "markdown",
   "metadata": {
    "pycharm": {
     "name": "#%% md\n"
    }
   },
   "source": [
    "This section refers to the second part - data augmentation and maxup training"
   ]
  },
  {
   "attachments": {},
   "cell_type": "markdown",
   "metadata": {
    "pycharm": {
     "name": "#%% md\n"
    }
   },
   "source": [
    "### 6.5.1 MaxUp as a Class"
   ]
  },
  {
   "attachments": {},
   "cell_type": "markdown",
   "metadata": {
    "pycharm": {
     "name": "#%% md\n"
    }
   },
   "source": [
    "As a suggestion, the Maxup class could consist of two functionalities: A forward pass that gets x and y as an input, and returns additional data as well as additional labels (increasing the amount of data by a factor of 'ntrials' or 'm' in the presentation). The second function is the adapted_loss that knows the structure of the data such that a reshaping is possible in order to have the 'ntrials'-many examples along one dimension, in which a maximum can be computed.    "
   ]
  },
  {
   "cell_type": "code",
   "execution_count": 12,
   "metadata": {
    "pycharm": {
     "name": "#%%\n"
    }
   },
   "outputs": [],
   "source": [
    "## Implementation inspired by https://github.com/JonasGeiping/data-poisoning/\n",
    "# see forest / data / mixing_data_augmentations.py\n",
    "\n",
    "class Maxup(torch.nn.Module):\n",
    "    \"\"\"A meta-augmentation, returning the worst result from a range of augmentations.\n",
    "    As in the orignal paper, https://arxiv.org/abs/2002.09024,\n",
    "    \"\"\"\n",
    "\n",
    "    def __init__(self, given_data_augmentation, ntrials=4):\n",
    "        \"\"\"Initialize with a given data augmentation module.\"\"\"\n",
    "        super().__init__()\n",
    "        self.augment = given_data_augmentation\n",
    "        self.ntrials = ntrials\n",
    "        self.max_criterion = torch.nn.CrossEntropyLoss(reduction='none')\n",
    "\n",
    "    def forward(self, x, y):\n",
    "        additional_x, additional_labels = [], []\n",
    "        for trial in range(self.ntrials):\n",
    "            x_out, y_out = self.augment(x, y)\n",
    "            additional_x.append(x_out)\n",
    "            additional_labels.append(y_out)\n",
    "\n",
    "        additional_x = torch.cat(additional_x, dim=0)\n",
    "        additional_labels = torch.cat(additional_labels, dim=0)\n",
    "        \n",
    "        return additional_x, additional_labels\n",
    "\n",
    "\n",
    "    def maxup_loss(self, outputs, extra_labels):\n",
    "        \"\"\"Compute loss. Here the loss is computed as worst-case estimate over the trials.\"\"\"\n",
    "        batch_size = outputs.shape[0] // self.ntrials\n",
    "        correct_preds = (torch.argmax(outputs.data, dim=1) == extra_labels).sum().item() / self.ntrials\n",
    "        stacked_loss = self.max_criterion(outputs, extra_labels).view(batch_size, self.ntrials, -1)\n",
    "        loss = stacked_loss.max(dim=1)[0].mean()\n",
    "        \n",
    "        return loss, correct_preds"
   ]
  },
  {
   "cell_type": "code",
   "execution_count": 13,
   "metadata": {
    "pycharm": {
     "name": "#%%\n"
    }
   },
   "outputs": [],
   "source": [
    "def myNoiseAdditionAugmenter(x,y):\n",
    "    #\n",
    "    # Todo: Write an augmentation that adds noise to x and keeps the label unchanged.\n",
    "    sigma = 0.3\n",
    "    x_added_noise = x + sigma*torch.randn_like(x)\n",
    "    return x_added_noise, y"
   ]
  },
  {
   "cell_type": "code",
   "execution_count": null,
   "metadata": {
    "pycharm": {
     "name": "#%%\n"
    }
   },
   "outputs": [],
   "source": [
    "#\n",
    "#\n",
    "#\n",
    "# Todo if you like: Possibly write more sophisticated data augmentation methods, e.g. inspired by Mixup, Cutout, or Cutmix.\n",
    "#\n",
    "#\n",
    "#"
   ]
  },
  {
   "attachments": {},
   "cell_type": "markdown",
   "metadata": {
    "pycharm": {
     "name": "#%% md\n"
    }
   },
   "source": [
    "## 6.5.2 Maxup in the training proceedure "
   ]
  },
  {
   "cell_type": "code",
   "execution_count": 14,
   "metadata": {
    "pycharm": {
     "name": "#%%\n"
    }
   },
   "outputs": [
    {
     "name": "stdout",
     "output_type": "stream",
     "text": [
      "| epoch   0 | current minibatch train loss  2.03\n",
      "| epoch   0 | current minibatch train loss  1.45\n",
      "| epoch   1 | current minibatch train loss  1.32\n",
      "| epoch   1 | current minibatch train loss  1.35\n",
      "| epoch   2 | current minibatch train loss  1.47\n",
      "| epoch   2 | current minibatch train loss  1.21\n",
      "| epoch   3 | current minibatch train loss  1.22\n",
      "| epoch   3 | current minibatch train loss  1.32\n",
      "| epoch   4 | current minibatch train loss  1.01\n",
      "| epoch   4 | current minibatch train loss  1.27\n",
      "| epoch   5 | current minibatch train loss  1.18\n",
      "| epoch   5 | current minibatch train loss  1.13\n",
      "| epoch   6 | current minibatch train loss  1.19\n",
      "| epoch   6 | current minibatch train loss  1.23\n",
      "| epoch   7 | current minibatch train loss  1.08\n",
      "| epoch   7 | current minibatch train loss  1.11\n",
      "| epoch   8 | current minibatch train loss  1.23\n",
      "| epoch   8 | current minibatch train loss  1.11\n",
      "| epoch   9 | current minibatch train loss  0.97\n",
      "| epoch   9 | current minibatch train loss  1.33\n",
      "| epoch  10 | current minibatch train loss  0.95\n",
      "| epoch  10 | current minibatch train loss  1.02\n",
      "| epoch  11 | current minibatch train loss  1.46\n",
      "| epoch  11 | current minibatch train loss  1.13\n",
      "| epoch  12 | current minibatch train loss  0.85\n",
      "| epoch  12 | current minibatch train loss  0.96\n",
      "| epoch  13 | current minibatch train loss  0.84\n",
      "| epoch  13 | current minibatch train loss  1.19\n",
      "| epoch  14 | current minibatch train loss  1.18\n",
      "| epoch  14 | current minibatch train loss  1.03\n",
      "| epoch  15 | current minibatch train loss  1.01\n",
      "| epoch  15 | current minibatch train loss  0.86\n",
      "| epoch  16 | current minibatch train loss  0.93\n",
      "| epoch  16 | current minibatch train loss  1.12\n",
      "| epoch  17 | current minibatch train loss  0.95\n",
      "| epoch  17 | current minibatch train loss  1.14\n",
      "| epoch  18 | current minibatch train loss  1.09\n",
      "| epoch  18 | current minibatch train loss  1.19\n",
      "| epoch  19 | current minibatch train loss  1.23\n",
      "| epoch  19 | current minibatch train loss  1.12\n",
      "| epoch  20 | current minibatch train loss  1.09\n",
      "| epoch  20 | current minibatch train loss  0.93\n",
      "| epoch  21 | current minibatch train loss  0.91\n",
      "| epoch  21 | current minibatch train loss  0.79\n",
      "| epoch  22 | current minibatch train loss  0.99\n",
      "| epoch  22 | current minibatch train loss  1.01\n",
      "| epoch  23 | current minibatch train loss  0.73\n",
      "| epoch  23 | current minibatch train loss  0.99\n",
      "| epoch  24 | current minibatch train loss  1.16\n",
      "| epoch  24 | current minibatch train loss  0.98\n",
      "| epoch  25 | current minibatch train loss  0.99\n",
      "| epoch  25 | current minibatch train loss  1.00\n",
      "| epoch  26 | current minibatch train loss  0.81\n",
      "| epoch  26 | current minibatch train loss  0.81\n",
      "| epoch  27 | current minibatch train loss  0.88\n",
      "| epoch  27 | current minibatch train loss  0.88\n",
      "| epoch  28 | current minibatch train loss  0.78\n",
      "| epoch  28 | current minibatch train loss  1.03\n",
      "| epoch  29 | current minibatch train loss  0.98\n",
      "| epoch  29 | current minibatch train loss  0.91\n"
     ]
    }
   ],
   "source": [
    "from model.DeepConvLSTM import DeepConvLSTM\n",
    "import torch\n",
    "from torch.utils.data import DataLoader\n",
    "\n",
    "# initialize your DeepConvLSTM object \n",
    "seed_torch(config['seed'])\n",
    "network = DeepConvLSTM(config)\n",
    "\n",
    "# sends network to the GPU and sets it to training mode\n",
    "network.to(config['gpu'])\n",
    "network.train()\n",
    "\n",
    "# initialize the optimizer and loss\n",
    "optimizer = torch.optim.Adam(network.parameters(), lr=config['lr'], weight_decay=config['weight_decay'])\n",
    "maxup = Maxup(myNoiseAdditionAugmenter, ntrials=4)\n",
    "\n",
    "\n",
    "# initialize training and validation dataset, define DataLoaders\n",
    "dataset = torch.utils.data.TensorDataset(torch.from_numpy(X_train), torch.from_numpy(y_train))\n",
    "trainloader = DataLoader(dataset, batch_size=config['batch_size'], shuffle=True)\n",
    "dataset = torch.utils.data.TensorDataset(torch.from_numpy(X_valid).float(), torch.from_numpy(y_valid))\n",
    "valloader = DataLoader(dataset, batch_size=config['batch_size'], shuffle=False)\n",
    "\n",
    "\n",
    "# define your training loop; iterates over the number of epochs\n",
    "for e in range(config['epochs']):\n",
    "    counter = 1\n",
    "\n",
    "    # iterate over the trainloader object (it'll return batches which you can use)\n",
    "    for i, (x, y) in enumerate(trainloader):\n",
    "        # sends batch x and y to the GPU\n",
    "        inputs, targets = x.to(config['gpu']), y.to(config['gpu'])\n",
    "        \n",
    "        optimizer.zero_grad()\n",
    "\n",
    "        # Increase the inputs via data augmentation\n",
    "        inputs,targets = maxup(inputs,targets)\n",
    "        \n",
    "        # send inputs through network to get predictions\n",
    "        train_output = network(inputs)\n",
    "\n",
    "        # calculates loss\n",
    "        loss = maxup.maxup_loss(train_output, targets.long())[0]\n",
    "\n",
    "        # backprogate your computed loss through the network\n",
    "        # use the .backward() and .step() function on your loss and optimizer\n",
    "        loss.backward()\n",
    "        optimizer.step()\n",
    "\n",
    "        # prints out every 100 batches information about the current loss and time per batch\n",
    "        if counter % 80 == 0:\n",
    "            print('| epoch {:3d} | current minibatch train loss {:5.2f}'.format(e, loss.item()))\n",
    "        \n",
    "        counter += 1"
   ]
  }
 ],
 "metadata": {
  "accelerator": "GPU",
  "colab": {
   "collapsed_sections": [],
   "name": "next_research_steps_solution.ipynb",
   "provenance": [],
   "toc_visible": true
  },
  "kernelspec": {
   "display_name": "Python 3",
   "language": "python",
   "name": "python3"
  },
  "language_info": {
   "codemirror_mode": {
    "name": "ipython",
    "version": 3
   },
   "file_extension": ".py",
   "mimetype": "text/x-python",
   "name": "python",
   "nbconvert_exporter": "python",
   "pygments_lexer": "ipython3",
   "version": "3.9.7"
  }
 },
 "nbformat": 4,
 "nbformat_minor": 1
}
